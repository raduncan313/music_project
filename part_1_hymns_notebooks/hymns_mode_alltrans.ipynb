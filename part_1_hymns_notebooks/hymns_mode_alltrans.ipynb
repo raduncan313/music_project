{
 "cells": [
  {
   "cell_type": "markdown",
   "id": "966c878e",
   "metadata": {},
   "source": [
    "# Classifying Mode for All Transpositions"
   ]
  },
  {
   "cell_type": "code",
   "execution_count": 14,
   "id": "52a47ff1",
   "metadata": {},
   "outputs": [],
   "source": [
    "import pandas as pd\n",
    "import numpy as np\n",
    "from sklearn.model_selection import train_test_split, GridSearchCV\n",
    "from sklearn.linear_model import LogisticRegression\n",
    "from sklearn.tree import DecisionTreeClassifier\n",
    "from sklearn.svm import SVC\n",
    "from sklearn.ensemble import RandomForestClassifier, GradientBoostingClassifier\n",
    "from sklearn.manifold import TSNE\n",
    "from sklearn.cluster import KMeans, DBSCAN\n",
    "from sklearn.metrics import adjusted_mutual_info_score, adjusted_rand_score\n",
    "from sklearn.mixture import GaussianMixture\n",
    "import pickle\n",
    "import os\n",
    "import matplotlib.pyplot as plt\n",
    "import sys\n",
    "sys.path.append('../modules')\n",
    "from music_project import Analyzer"
   ]
  },
  {
   "cell_type": "markdown",
   "id": "4d89ccc7",
   "metadata": {},
   "source": [
    "## Clustering and Manifold Learning"
   ]
  },
  {
   "cell_type": "markdown",
   "id": "e0e1d46f",
   "metadata": {},
   "source": [
    "### Load Data"
   ]
  },
  {
   "cell_type": "code",
   "execution_count": 15,
   "id": "7f754933",
   "metadata": {},
   "outputs": [
    {
     "data": {
      "text/html": [
       "<div>\n",
       "<style scoped>\n",
       "    .dataframe tbody tr th:only-of-type {\n",
       "        vertical-align: middle;\n",
       "    }\n",
       "\n",
       "    .dataframe tbody tr th {\n",
       "        vertical-align: top;\n",
       "    }\n",
       "\n",
       "    .dataframe thead th {\n",
       "        text-align: right;\n",
       "    }\n",
       "</style>\n",
       "<table border=\"1\" class=\"dataframe\">\n",
       "  <thead>\n",
       "    <tr style=\"text-align: right;\">\n",
       "      <th></th>\n",
       "      <th>sig-mode</th>\n",
       "      <th>mode</th>\n",
       "      <th>sig</th>\n",
       "      <th>name</th>\n",
       "      <th>0</th>\n",
       "      <th>1</th>\n",
       "      <th>2</th>\n",
       "      <th>3</th>\n",
       "      <th>4</th>\n",
       "      <th>5</th>\n",
       "      <th>6</th>\n",
       "      <th>7</th>\n",
       "      <th>8</th>\n",
       "      <th>9</th>\n",
       "      <th>10</th>\n",
       "      <th>11</th>\n",
       "    </tr>\n",
       "  </thead>\n",
       "  <tbody>\n",
       "    <tr>\n",
       "      <th>0</th>\n",
       "      <td>1</td>\n",
       "      <td>1</td>\n",
       "      <td>0</td>\n",
       "      <td>MajesticSweetnessSitsEnthroned_(nc)simms-jr.mid</td>\n",
       "      <td>0.401606</td>\n",
       "      <td>0.000000</td>\n",
       "      <td>0.056393</td>\n",
       "      <td>0.000000</td>\n",
       "      <td>0.156354</td>\n",
       "      <td>0.077541</td>\n",
       "      <td>0.000000</td>\n",
       "      <td>0.245839</td>\n",
       "      <td>0.000000</td>\n",
       "      <td>0.023497</td>\n",
       "      <td>0.000000</td>\n",
       "      <td>0.038770</td>\n",
       "    </tr>\n",
       "    <tr>\n",
       "      <th>1</th>\n",
       "      <td>1</td>\n",
       "      <td>1</td>\n",
       "      <td>0</td>\n",
       "      <td>MakeMeAChannelOfBlessing_(nc)simms-jr.mid</td>\n",
       "      <td>0.293248</td>\n",
       "      <td>0.000000</td>\n",
       "      <td>0.130001</td>\n",
       "      <td>0.000000</td>\n",
       "      <td>0.112117</td>\n",
       "      <td>0.152700</td>\n",
       "      <td>0.011005</td>\n",
       "      <td>0.183308</td>\n",
       "      <td>0.000000</td>\n",
       "      <td>0.055715</td>\n",
       "      <td>0.000000</td>\n",
       "      <td>0.061905</td>\n",
       "    </tr>\n",
       "    <tr>\n",
       "      <th>2</th>\n",
       "      <td>1</td>\n",
       "      <td>1</td>\n",
       "      <td>0</td>\n",
       "      <td>ManOfSorrows_(nc)simms-jr.mid</td>\n",
       "      <td>0.327632</td>\n",
       "      <td>0.000000</td>\n",
       "      <td>0.050256</td>\n",
       "      <td>0.000000</td>\n",
       "      <td>0.192911</td>\n",
       "      <td>0.068771</td>\n",
       "      <td>0.007935</td>\n",
       "      <td>0.184976</td>\n",
       "      <td>0.013225</td>\n",
       "      <td>0.100511</td>\n",
       "      <td>0.000000</td>\n",
       "      <td>0.053782</td>\n",
       "    </tr>\n",
       "    <tr>\n",
       "      <th>3</th>\n",
       "      <td>1</td>\n",
       "      <td>1</td>\n",
       "      <td>0</td>\n",
       "      <td>MayTheMindOfChristMySavior_(nc)simms-jr.mid</td>\n",
       "      <td>0.247073</td>\n",
       "      <td>0.000000</td>\n",
       "      <td>0.118267</td>\n",
       "      <td>0.000000</td>\n",
       "      <td>0.141816</td>\n",
       "      <td>0.124122</td>\n",
       "      <td>0.000000</td>\n",
       "      <td>0.243430</td>\n",
       "      <td>0.000000</td>\n",
       "      <td>0.072600</td>\n",
       "      <td>0.000000</td>\n",
       "      <td>0.052693</td>\n",
       "    </tr>\n",
       "    <tr>\n",
       "      <th>4</th>\n",
       "      <td>1</td>\n",
       "      <td>1</td>\n",
       "      <td>0</td>\n",
       "      <td>MomentByMoment_(nc)simms-jr.mid</td>\n",
       "      <td>0.302664</td>\n",
       "      <td>0.007206</td>\n",
       "      <td>0.116756</td>\n",
       "      <td>0.006551</td>\n",
       "      <td>0.104819</td>\n",
       "      <td>0.074829</td>\n",
       "      <td>0.015068</td>\n",
       "      <td>0.220338</td>\n",
       "      <td>0.007861</td>\n",
       "      <td>0.074174</td>\n",
       "      <td>0.015723</td>\n",
       "      <td>0.054011</td>\n",
       "    </tr>\n",
       "    <tr>\n",
       "      <th>...</th>\n",
       "      <td>...</td>\n",
       "      <td>...</td>\n",
       "      <td>...</td>\n",
       "      <td>...</td>\n",
       "      <td>...</td>\n",
       "      <td>...</td>\n",
       "      <td>...</td>\n",
       "      <td>...</td>\n",
       "      <td>...</td>\n",
       "      <td>...</td>\n",
       "      <td>...</td>\n",
       "      <td>...</td>\n",
       "      <td>...</td>\n",
       "      <td>...</td>\n",
       "      <td>...</td>\n",
       "      <td>...</td>\n",
       "    </tr>\n",
       "    <tr>\n",
       "      <th>4339</th>\n",
       "      <td>22</td>\n",
       "      <td>0</td>\n",
       "      <td>11</td>\n",
       "      <td>Havah_Nagilah_(nc)pope.mid</td>\n",
       "      <td>0.000000</td>\n",
       "      <td>0.118769</td>\n",
       "      <td>0.001231</td>\n",
       "      <td>0.326462</td>\n",
       "      <td>0.100308</td>\n",
       "      <td>0.004923</td>\n",
       "      <td>0.008615</td>\n",
       "      <td>0.052615</td>\n",
       "      <td>0.211692</td>\n",
       "      <td>0.014769</td>\n",
       "      <td>0.098462</td>\n",
       "      <td>0.062154</td>\n",
       "    </tr>\n",
       "    <tr>\n",
       "      <th>4340</th>\n",
       "      <td>23</td>\n",
       "      <td>1</td>\n",
       "      <td>11</td>\n",
       "      <td>America_the_Beautiful_(nc)pope.mid</td>\n",
       "      <td>0.008163</td>\n",
       "      <td>0.161224</td>\n",
       "      <td>0.000000</td>\n",
       "      <td>0.116327</td>\n",
       "      <td>0.075510</td>\n",
       "      <td>0.012245</td>\n",
       "      <td>0.220408</td>\n",
       "      <td>0.000000</td>\n",
       "      <td>0.073469</td>\n",
       "      <td>0.008163</td>\n",
       "      <td>0.095918</td>\n",
       "      <td>0.228571</td>\n",
       "    </tr>\n",
       "    <tr>\n",
       "      <th>4341</th>\n",
       "      <td>23</td>\n",
       "      <td>1</td>\n",
       "      <td>11</td>\n",
       "      <td>Battle_Hymn_of_the_Republic_(nc)pope.mid</td>\n",
       "      <td>0.000000</td>\n",
       "      <td>0.035992</td>\n",
       "      <td>0.000000</td>\n",
       "      <td>0.185798</td>\n",
       "      <td>0.090467</td>\n",
       "      <td>0.000000</td>\n",
       "      <td>0.214981</td>\n",
       "      <td>0.000000</td>\n",
       "      <td>0.042802</td>\n",
       "      <td>0.000000</td>\n",
       "      <td>0.016537</td>\n",
       "      <td>0.413424</td>\n",
       "    </tr>\n",
       "    <tr>\n",
       "      <th>4342</th>\n",
       "      <td>23</td>\n",
       "      <td>1</td>\n",
       "      <td>11</td>\n",
       "      <td>My_Country_Tis_of_Thee_(nc)pope.mid</td>\n",
       "      <td>0.000000</td>\n",
       "      <td>0.101852</td>\n",
       "      <td>0.000000</td>\n",
       "      <td>0.160494</td>\n",
       "      <td>0.095679</td>\n",
       "      <td>0.000000</td>\n",
       "      <td>0.299383</td>\n",
       "      <td>0.000000</td>\n",
       "      <td>0.049383</td>\n",
       "      <td>0.000000</td>\n",
       "      <td>0.043210</td>\n",
       "      <td>0.250000</td>\n",
       "    </tr>\n",
       "    <tr>\n",
       "      <th>4343</th>\n",
       "      <td>23</td>\n",
       "      <td>1</td>\n",
       "      <td>11</td>\n",
       "      <td>Star_Spangled_Banner_(nc)pope.mid</td>\n",
       "      <td>0.002604</td>\n",
       "      <td>0.128906</td>\n",
       "      <td>0.000000</td>\n",
       "      <td>0.158854</td>\n",
       "      <td>0.062500</td>\n",
       "      <td>0.010417</td>\n",
       "      <td>0.244792</td>\n",
       "      <td>0.005208</td>\n",
       "      <td>0.042969</td>\n",
       "      <td>0.000000</td>\n",
       "      <td>0.071615</td>\n",
       "      <td>0.272135</td>\n",
       "    </tr>\n",
       "  </tbody>\n",
       "</table>\n",
       "<p>4344 rows × 16 columns</p>\n",
       "</div>"
      ],
      "text/plain": [
       "      sig-mode  mode  sig                                             name  \\\n",
       "0            1     1    0  MajesticSweetnessSitsEnthroned_(nc)simms-jr.mid   \n",
       "1            1     1    0        MakeMeAChannelOfBlessing_(nc)simms-jr.mid   \n",
       "2            1     1    0                    ManOfSorrows_(nc)simms-jr.mid   \n",
       "3            1     1    0      MayTheMindOfChristMySavior_(nc)simms-jr.mid   \n",
       "4            1     1    0                  MomentByMoment_(nc)simms-jr.mid   \n",
       "...        ...   ...  ...                                              ...   \n",
       "4339        22     0   11                       Havah_Nagilah_(nc)pope.mid   \n",
       "4340        23     1   11               America_the_Beautiful_(nc)pope.mid   \n",
       "4341        23     1   11         Battle_Hymn_of_the_Republic_(nc)pope.mid   \n",
       "4342        23     1   11              My_Country_Tis_of_Thee_(nc)pope.mid   \n",
       "4343        23     1   11                Star_Spangled_Banner_(nc)pope.mid   \n",
       "\n",
       "             0         1         2         3         4         5         6  \\\n",
       "0     0.401606  0.000000  0.056393  0.000000  0.156354  0.077541  0.000000   \n",
       "1     0.293248  0.000000  0.130001  0.000000  0.112117  0.152700  0.011005   \n",
       "2     0.327632  0.000000  0.050256  0.000000  0.192911  0.068771  0.007935   \n",
       "3     0.247073  0.000000  0.118267  0.000000  0.141816  0.124122  0.000000   \n",
       "4     0.302664  0.007206  0.116756  0.006551  0.104819  0.074829  0.015068   \n",
       "...        ...       ...       ...       ...       ...       ...       ...   \n",
       "4339  0.000000  0.118769  0.001231  0.326462  0.100308  0.004923  0.008615   \n",
       "4340  0.008163  0.161224  0.000000  0.116327  0.075510  0.012245  0.220408   \n",
       "4341  0.000000  0.035992  0.000000  0.185798  0.090467  0.000000  0.214981   \n",
       "4342  0.000000  0.101852  0.000000  0.160494  0.095679  0.000000  0.299383   \n",
       "4343  0.002604  0.128906  0.000000  0.158854  0.062500  0.010417  0.244792   \n",
       "\n",
       "             7         8         9        10        11  \n",
       "0     0.245839  0.000000  0.023497  0.000000  0.038770  \n",
       "1     0.183308  0.000000  0.055715  0.000000  0.061905  \n",
       "2     0.184976  0.013225  0.100511  0.000000  0.053782  \n",
       "3     0.243430  0.000000  0.072600  0.000000  0.052693  \n",
       "4     0.220338  0.007861  0.074174  0.015723  0.054011  \n",
       "...        ...       ...       ...       ...       ...  \n",
       "4339  0.052615  0.211692  0.014769  0.098462  0.062154  \n",
       "4340  0.000000  0.073469  0.008163  0.095918  0.228571  \n",
       "4341  0.000000  0.042802  0.000000  0.016537  0.413424  \n",
       "4342  0.000000  0.049383  0.000000  0.043210  0.250000  \n",
       "4343  0.005208  0.042969  0.000000  0.071615  0.272135  \n",
       "\n",
       "[4344 rows x 16 columns]"
      ]
     },
     "execution_count": 15,
     "metadata": {},
     "output_type": "execute_result"
    }
   ],
   "source": [
    "csv_dir = '../csv/hymns_single-tone_alltranspositions_nosampling.csv'\n",
    "df_nosamp = pd.read_csv(csv_dir, index_col=0)\n",
    "X = df_nosamp[[str(n) for n in range(11)]]\n",
    "y = df_nosamp['mode']\n",
    "ana_nosamp = Analyzer(X, y)\n",
    "ana_nosamp.train_test_split(test_size=0.2, random_state=42)\n",
    "df_nosamp"
   ]
  },
  {
   "cell_type": "markdown",
   "id": "948595a8",
   "metadata": {},
   "source": [
    "### K-means Clustering"
   ]
  },
  {
   "cell_type": "code",
   "execution_count": 16,
   "id": "46a63e00",
   "metadata": {},
   "outputs": [
    {
     "name": "stdout",
     "output_type": "stream",
     "text": [
      "Best clustering: KMeans(n_clusters=2, n_init=1, random_state=42)\n",
      "Info score for cluster: -0.00024291418378763507\n"
     ]
    }
   ],
   "source": [
    "ana_nosamp.fit_kmeans(name='kmeans', random_state=42)"
   ]
  },
  {
   "cell_type": "markdown",
   "id": "6701bd4b",
   "metadata": {},
   "source": [
    "### Gaussian Mixture Model"
   ]
  },
  {
   "cell_type": "code",
   "execution_count": 17,
   "id": "64903cb9",
   "metadata": {},
   "outputs": [
    {
     "name": "stdout",
     "output_type": "stream",
     "text": [
      "Best clustering: GaussianMixture(init_params='k-means++', n_components=2, random_state=42)\n",
      "Info score for cluster: 0.00771766064549313\n"
     ]
    }
   ],
   "source": [
    "ana_nosamp.fit_gmm(name='gmm', random_state=42)"
   ]
  },
  {
   "cell_type": "markdown",
   "id": "7f43280f",
   "metadata": {},
   "source": [
    "### DBSCAN"
   ]
  },
  {
   "cell_type": "code",
   "execution_count": 18,
   "id": "302a9705",
   "metadata": {},
   "outputs": [
    {
     "name": "stdout",
     "output_type": "stream",
     "text": [
      "Best clustering: DBSCAN(eps=0.12, min_samples=18, n_jobs=-1)\n",
      "Info score for cluster: 0.5520763098455943\n",
      "Best eps: 0.12\n",
      "Best min_samples: 18\n"
     ]
    }
   ],
   "source": [
    "eps_vals = np.linspace(0.01,0.2,20)\n",
    "min_samples_vals = list(range(1,20))\n",
    "ana_nosamp.fit_dbscan(name='dbscan', eps_vals=eps_vals, min_samples_vals=min_samples_vals, random_state=42)"
   ]
  },
  {
   "cell_type": "markdown",
   "id": "fb232adf",
   "metadata": {},
   "source": [
    "### t-SNE"
   ]
  },
  {
   "cell_type": "code",
   "execution_count": 19,
   "id": "b86b267e",
   "metadata": {},
   "outputs": [
    {
     "data": {
      "image/png": "[encoded data removed]",
      "text/plain": [
       "<Figure size 640x480 with 1 Axes>"
      ]
     },
     "metadata": {},
     "output_type": "display_data"
    }
   ],
   "source": [
    "ana_nosamp.fit_tsne(name='tsne', random_state=42)\n",
    "fig, ax = ana_nosamp.plot_embedding('tsne')\n",
    "plt.show()"
   ]
  },
  {
   "cell_type": "markdown",
   "id": "44cdfd06",
   "metadata": {},
   "source": [
    "### Save Unsampled Analyzer"
   ]
  },
  {
   "cell_type": "code",
   "execution_count": 20,
   "id": "7cbf7a3b",
   "metadata": {},
   "outputs": [
    {
     "name": "stdout",
     "output_type": "stream",
     "text": [
      "Models:\n",
      "\n",
      "\n",
      "Clusters:\n",
      "kmeans: KMeans(n_clusters=2, n_init=1, random_state=42)\n",
      "gmm: GaussianMixture(init_params='k-means++', n_components=2, random_state=42)\n",
      "dbscan: DBSCAN(eps=0.12, min_samples=18, n_jobs=-1)\n",
      "\n",
      "\n",
      "Embeddings:\n",
      "tsne: TSNE(random_state=42)\n",
      "\n"
     ]
    }
   ],
   "source": [
    "print(ana_nosamp)"
   ]
  },
  {
   "cell_type": "code",
   "execution_count": 21,
   "id": "c51e8bbc",
   "metadata": {},
   "outputs": [],
   "source": [
    "save_dir = '../models/part_1_hymns/'\n",
    "with open(save_dir + 'analyzer_mode_alltrans_nosamp.pkl', 'wb') as f:\n",
    "    pickle.dump(ana_nosamp, f)"
   ]
  },
  {
   "cell_type": "markdown",
   "id": "8d8d0568",
   "metadata": {},
   "source": [
    "## Classification"
   ]
  },
  {
   "cell_type": "markdown",
   "id": "3643a35f",
   "metadata": {},
   "source": [
    "### Load Data"
   ]
  },
  {
   "cell_type": "code",
   "execution_count": 2,
   "id": "791cb10f",
   "metadata": {},
   "outputs": [
    {
     "data": {
      "text/html": [
       "<div>\n",
       "<style scoped>\n",
       "    .dataframe tbody tr th:only-of-type {\n",
       "        vertical-align: middle;\n",
       "    }\n",
       "\n",
       "    .dataframe tbody tr th {\n",
       "        vertical-align: top;\n",
       "    }\n",
       "\n",
       "    .dataframe thead th {\n",
       "        text-align: right;\n",
       "    }\n",
       "</style>\n",
       "<table border=\"1\" class=\"dataframe\">\n",
       "  <thead>\n",
       "    <tr style=\"text-align: right;\">\n",
       "      <th></th>\n",
       "      <th>sig-mode</th>\n",
       "      <th>mode</th>\n",
       "      <th>sig</th>\n",
       "      <th>name</th>\n",
       "      <th>0</th>\n",
       "      <th>1</th>\n",
       "      <th>2</th>\n",
       "      <th>3</th>\n",
       "      <th>4</th>\n",
       "      <th>5</th>\n",
       "      <th>6</th>\n",
       "      <th>7</th>\n",
       "      <th>8</th>\n",
       "      <th>9</th>\n",
       "      <th>10</th>\n",
       "      <th>11</th>\n",
       "    </tr>\n",
       "  </thead>\n",
       "  <tbody>\n",
       "    <tr>\n",
       "      <th>0</th>\n",
       "      <td>1</td>\n",
       "      <td>1</td>\n",
       "      <td>0</td>\n",
       "      <td>MajesticSweetnessSitsEnthroned_(nc)simms-jr.mid</td>\n",
       "      <td>0.401606</td>\n",
       "      <td>0.000000</td>\n",
       "      <td>0.056393</td>\n",
       "      <td>0.000000</td>\n",
       "      <td>0.156354</td>\n",
       "      <td>0.077541</td>\n",
       "      <td>0.000000</td>\n",
       "      <td>0.245839</td>\n",
       "      <td>0.000000</td>\n",
       "      <td>0.023497</td>\n",
       "      <td>0.000000</td>\n",
       "      <td>0.038770</td>\n",
       "    </tr>\n",
       "    <tr>\n",
       "      <th>1</th>\n",
       "      <td>1</td>\n",
       "      <td>1</td>\n",
       "      <td>0</td>\n",
       "      <td>MakeMeAChannelOfBlessing_(nc)simms-jr.mid</td>\n",
       "      <td>0.293248</td>\n",
       "      <td>0.000000</td>\n",
       "      <td>0.130001</td>\n",
       "      <td>0.000000</td>\n",
       "      <td>0.112117</td>\n",
       "      <td>0.152700</td>\n",
       "      <td>0.011005</td>\n",
       "      <td>0.183308</td>\n",
       "      <td>0.000000</td>\n",
       "      <td>0.055715</td>\n",
       "      <td>0.000000</td>\n",
       "      <td>0.061905</td>\n",
       "    </tr>\n",
       "    <tr>\n",
       "      <th>2</th>\n",
       "      <td>1</td>\n",
       "      <td>1</td>\n",
       "      <td>0</td>\n",
       "      <td>ManOfSorrows_(nc)simms-jr.mid</td>\n",
       "      <td>0.327632</td>\n",
       "      <td>0.000000</td>\n",
       "      <td>0.050256</td>\n",
       "      <td>0.000000</td>\n",
       "      <td>0.192911</td>\n",
       "      <td>0.068771</td>\n",
       "      <td>0.007935</td>\n",
       "      <td>0.184976</td>\n",
       "      <td>0.013225</td>\n",
       "      <td>0.100511</td>\n",
       "      <td>0.000000</td>\n",
       "      <td>0.053782</td>\n",
       "    </tr>\n",
       "    <tr>\n",
       "      <th>3</th>\n",
       "      <td>1</td>\n",
       "      <td>1</td>\n",
       "      <td>0</td>\n",
       "      <td>MayTheMindOfChristMySavior_(nc)simms-jr.mid</td>\n",
       "      <td>0.247073</td>\n",
       "      <td>0.000000</td>\n",
       "      <td>0.118267</td>\n",
       "      <td>0.000000</td>\n",
       "      <td>0.141816</td>\n",
       "      <td>0.124122</td>\n",
       "      <td>0.000000</td>\n",
       "      <td>0.243430</td>\n",
       "      <td>0.000000</td>\n",
       "      <td>0.072600</td>\n",
       "      <td>0.000000</td>\n",
       "      <td>0.052693</td>\n",
       "    </tr>\n",
       "    <tr>\n",
       "      <th>4</th>\n",
       "      <td>1</td>\n",
       "      <td>1</td>\n",
       "      <td>0</td>\n",
       "      <td>MomentByMoment_(nc)simms-jr.mid</td>\n",
       "      <td>0.302664</td>\n",
       "      <td>0.007206</td>\n",
       "      <td>0.116756</td>\n",
       "      <td>0.006551</td>\n",
       "      <td>0.104819</td>\n",
       "      <td>0.074829</td>\n",
       "      <td>0.015068</td>\n",
       "      <td>0.220338</td>\n",
       "      <td>0.007861</td>\n",
       "      <td>0.074174</td>\n",
       "      <td>0.015723</td>\n",
       "      <td>0.054011</td>\n",
       "    </tr>\n",
       "    <tr>\n",
       "      <th>...</th>\n",
       "      <td>...</td>\n",
       "      <td>...</td>\n",
       "      <td>...</td>\n",
       "      <td>...</td>\n",
       "      <td>...</td>\n",
       "      <td>...</td>\n",
       "      <td>...</td>\n",
       "      <td>...</td>\n",
       "      <td>...</td>\n",
       "      <td>...</td>\n",
       "      <td>...</td>\n",
       "      <td>...</td>\n",
       "      <td>...</td>\n",
       "      <td>...</td>\n",
       "      <td>...</td>\n",
       "      <td>...</td>\n",
       "    </tr>\n",
       "    <tr>\n",
       "      <th>8347</th>\n",
       "      <td>22</td>\n",
       "      <td>0</td>\n",
       "      <td>11</td>\n",
       "      <td>OSacredHeadNowWounded_(nc)simms-jr.mid</td>\n",
       "      <td>0.011403</td>\n",
       "      <td>0.101244</td>\n",
       "      <td>0.000000</td>\n",
       "      <td>0.161368</td>\n",
       "      <td>0.089841</td>\n",
       "      <td>0.008293</td>\n",
       "      <td>0.124050</td>\n",
       "      <td>0.016586</td>\n",
       "      <td>0.205943</td>\n",
       "      <td>0.002073</td>\n",
       "      <td>0.078093</td>\n",
       "      <td>0.201106</td>\n",
       "    </tr>\n",
       "    <tr>\n",
       "      <th>8348</th>\n",
       "      <td>22</td>\n",
       "      <td>0</td>\n",
       "      <td>11</td>\n",
       "      <td>OSacredHeadNowWounded_(nc)simms-jr.mid</td>\n",
       "      <td>0.011403</td>\n",
       "      <td>0.101244</td>\n",
       "      <td>0.000000</td>\n",
       "      <td>0.161368</td>\n",
       "      <td>0.089841</td>\n",
       "      <td>0.008293</td>\n",
       "      <td>0.124050</td>\n",
       "      <td>0.016586</td>\n",
       "      <td>0.205943</td>\n",
       "      <td>0.002073</td>\n",
       "      <td>0.078093</td>\n",
       "      <td>0.201106</td>\n",
       "    </tr>\n",
       "    <tr>\n",
       "      <th>8349</th>\n",
       "      <td>22</td>\n",
       "      <td>0</td>\n",
       "      <td>11</td>\n",
       "      <td>SalvationTune_(nc)simms-jr.mid</td>\n",
       "      <td>0.000000</td>\n",
       "      <td>0.091978</td>\n",
       "      <td>0.000000</td>\n",
       "      <td>0.273428</td>\n",
       "      <td>0.067104</td>\n",
       "      <td>0.003471</td>\n",
       "      <td>0.094389</td>\n",
       "      <td>0.003471</td>\n",
       "      <td>0.269668</td>\n",
       "      <td>0.000000</td>\n",
       "      <td>0.057462</td>\n",
       "      <td>0.139028</td>\n",
       "    </tr>\n",
       "    <tr>\n",
       "      <th>8350</th>\n",
       "      <td>22</td>\n",
       "      <td>0</td>\n",
       "      <td>11</td>\n",
       "      <td>ComeYeSinnersPoorAndNeedyA_(nc)simms-jr.mid</td>\n",
       "      <td>0.000000</td>\n",
       "      <td>0.032251</td>\n",
       "      <td>0.000000</td>\n",
       "      <td>0.214389</td>\n",
       "      <td>0.027290</td>\n",
       "      <td>0.000000</td>\n",
       "      <td>0.136758</td>\n",
       "      <td>0.020467</td>\n",
       "      <td>0.213976</td>\n",
       "      <td>0.000000</td>\n",
       "      <td>0.040314</td>\n",
       "      <td>0.314554</td>\n",
       "    </tr>\n",
       "    <tr>\n",
       "      <th>8351</th>\n",
       "      <td>22</td>\n",
       "      <td>0</td>\n",
       "      <td>11</td>\n",
       "      <td>WhatWondrousLoveIsThis_(nc)simms-jr.mid</td>\n",
       "      <td>0.000000</td>\n",
       "      <td>0.097276</td>\n",
       "      <td>0.000000</td>\n",
       "      <td>0.249919</td>\n",
       "      <td>0.000000</td>\n",
       "      <td>0.062986</td>\n",
       "      <td>0.132782</td>\n",
       "      <td>0.000000</td>\n",
       "      <td>0.247487</td>\n",
       "      <td>0.000000</td>\n",
       "      <td>0.100438</td>\n",
       "      <td>0.109112</td>\n",
       "    </tr>\n",
       "  </tbody>\n",
       "</table>\n",
       "<p>8352 rows × 16 columns</p>\n",
       "</div>"
      ],
      "text/plain": [
       "      sig-mode  mode  sig                                             name  \\\n",
       "0            1     1    0  MajesticSweetnessSitsEnthroned_(nc)simms-jr.mid   \n",
       "1            1     1    0        MakeMeAChannelOfBlessing_(nc)simms-jr.mid   \n",
       "2            1     1    0                    ManOfSorrows_(nc)simms-jr.mid   \n",
       "3            1     1    0      MayTheMindOfChristMySavior_(nc)simms-jr.mid   \n",
       "4            1     1    0                  MomentByMoment_(nc)simms-jr.mid   \n",
       "...        ...   ...  ...                                              ...   \n",
       "8347        22     0   11           OSacredHeadNowWounded_(nc)simms-jr.mid   \n",
       "8348        22     0   11           OSacredHeadNowWounded_(nc)simms-jr.mid   \n",
       "8349        22     0   11                   SalvationTune_(nc)simms-jr.mid   \n",
       "8350        22     0   11      ComeYeSinnersPoorAndNeedyA_(nc)simms-jr.mid   \n",
       "8351        22     0   11          WhatWondrousLoveIsThis_(nc)simms-jr.mid   \n",
       "\n",
       "             0         1         2         3         4         5         6  \\\n",
       "0     0.401606  0.000000  0.056393  0.000000  0.156354  0.077541  0.000000   \n",
       "1     0.293248  0.000000  0.130001  0.000000  0.112117  0.152700  0.011005   \n",
       "2     0.327632  0.000000  0.050256  0.000000  0.192911  0.068771  0.007935   \n",
       "3     0.247073  0.000000  0.118267  0.000000  0.141816  0.124122  0.000000   \n",
       "4     0.302664  0.007206  0.116756  0.006551  0.104819  0.074829  0.015068   \n",
       "...        ...       ...       ...       ...       ...       ...       ...   \n",
       "8347  0.011403  0.101244  0.000000  0.161368  0.089841  0.008293  0.124050   \n",
       "8348  0.011403  0.101244  0.000000  0.161368  0.089841  0.008293  0.124050   \n",
       "8349  0.000000  0.091978  0.000000  0.273428  0.067104  0.003471  0.094389   \n",
       "8350  0.000000  0.032251  0.000000  0.214389  0.027290  0.000000  0.136758   \n",
       "8351  0.000000  0.097276  0.000000  0.249919  0.000000  0.062986  0.132782   \n",
       "\n",
       "             7         8         9        10        11  \n",
       "0     0.245839  0.000000  0.023497  0.000000  0.038770  \n",
       "1     0.183308  0.000000  0.055715  0.000000  0.061905  \n",
       "2     0.184976  0.013225  0.100511  0.000000  0.053782  \n",
       "3     0.243430  0.000000  0.072600  0.000000  0.052693  \n",
       "4     0.220338  0.007861  0.074174  0.015723  0.054011  \n",
       "...        ...       ...       ...       ...       ...  \n",
       "8347  0.016586  0.205943  0.002073  0.078093  0.201106  \n",
       "8348  0.016586  0.205943  0.002073  0.078093  0.201106  \n",
       "8349  0.003471  0.269668  0.000000  0.057462  0.139028  \n",
       "8350  0.020467  0.213976  0.000000  0.040314  0.314554  \n",
       "8351  0.000000  0.247487  0.000000  0.100438  0.109112  \n",
       "\n",
       "[8352 rows x 16 columns]"
      ]
     },
     "execution_count": 2,
     "metadata": {},
     "output_type": "execute_result"
    }
   ],
   "source": [
    "csv_dir = '../csv/hymns_single-tone_alltranspositions_minor-upsampled.csv'\n",
    "df_samp = pd.read_csv(csv_dir, index_col=0)\n",
    "X = df_samp[[str(n) for n in range(11)]]\n",
    "y = df_samp['mode']\n",
    "ana_samp = Analyzer(X, y)\n",
    "ana_samp.train_test_split(test_size=0.2, random_state=42)\n",
    "df_samp"
   ]
  },
  {
   "cell_type": "markdown",
   "id": "e97490be",
   "metadata": {},
   "source": [
    "### Logistic Regression"
   ]
  },
  {
   "cell_type": "code",
   "execution_count": 8,
   "id": "d01f2655",
   "metadata": {},
   "outputs": [
    {
     "name": "stdout",
     "output_type": "stream",
     "text": [
      "Fitting 5 folds for each of 126 candidates, totalling 630 fits\n",
      "Scores for 'logreg':\n",
      "Training score: 0.5455770094297261\n",
      "Test score: 0.5320167564332735\n",
      " \n",
      "Best params:\n",
      "{'C': 0.01, 'l1_ratio': 0.0, 'max_iter': 10000, 'penalty': 'elasticnet', 'solver': 'saga'}\n",
      " \n"
     ]
    }
   ],
   "source": [
    "params = {}\n",
    "params['l1_ratio'] = np.linspace(0,1,6)\n",
    "params['C'] = np.power(10, np.linspace(-5,5,21))\n",
    "params['penalty'] = ['elasticnet']\n",
    "params['solver'] = ['saga']\n",
    "params['max_iter'] = [10000]\n",
    "ana_samp.train_model_gscv(LogisticRegression, name='logreg', params=params, random_state=42)"
   ]
  },
  {
   "cell_type": "markdown",
   "id": "0c35812e",
   "metadata": {},
   "source": [
    "### Support Vector Classifier"
   ]
  },
  {
   "cell_type": "markdown",
   "id": "9a4260e4",
   "metadata": {},
   "source": [
    "#### Radial basis kernel"
   ]
  },
  {
   "cell_type": "code",
   "execution_count": 4,
   "id": "31f206c2",
   "metadata": {},
   "outputs": [
    {
     "name": "stdout",
     "output_type": "stream",
     "text": [
      "Fitting 5 folds for each of 11 candidates, totalling 55 fits\n",
      "Scores for 'svc-rbf':\n",
      "Training score: 1.0\n",
      "Test score: 1.0\n",
      " \n",
      "Best params:\n",
      "{'C': 158.48931924611142, 'kernel': 'rbf'}\n",
      " \n"
     ]
    }
   ],
   "source": [
    "params = {}\n",
    "params['C'] = np.power(10, np.linspace(-1, 3, 11))\n",
    "params['kernel'] = ['rbf']\n",
    "ana_samp.train_model_gscv(SVC, 'svc-rbf', params=params, random_state=42)"
   ]
  },
  {
   "cell_type": "markdown",
   "id": "c93323b4",
   "metadata": {},
   "source": [
    "#### Polynomial kernels"
   ]
  },
  {
   "cell_type": "code",
   "execution_count": 3,
   "id": "559e8eca",
   "metadata": {},
   "outputs": [
    {
     "name": "stdout",
     "output_type": "stream",
     "text": [
      "Fitting 5 folds for each of 10 candidates, totalling 50 fits\n",
      "Scores for 'svc-poly-1':\n",
      "Training score: 0.5086064960335279\n",
      "Test score: 0.47097546379413524\n",
      " \n",
      "Best params:\n",
      "{'C': 1000.0, 'coef0': 1, 'degree': 1, 'kernel': 'poly'}\n",
      " \n",
      "Fitting 5 folds for each of 10 candidates, totalling 50 fits\n",
      "Scores for 'svc-poly-2':\n",
      "Training score: 0.8408920820236492\n",
      "Test score: 0.8384201077199281\n",
      " \n",
      "Best params:\n",
      "{'C': 1000.0, 'coef0': 1, 'degree': 2, 'kernel': 'poly'}\n",
      " \n",
      "Fitting 5 folds for each of 10 candidates, totalling 50 fits\n",
      "Scores for 'svc-poly-3':\n",
      "Training score: 1.0\n",
      "Test score: 0.997606223818073\n",
      " \n",
      "Best params:\n",
      "{'C': 100.0, 'coef0': 1, 'degree': 3, 'kernel': 'poly'}\n",
      " \n",
      "Fitting 5 folds for each of 10 candidates, totalling 50 fits\n",
      "Scores for 'svc-poly-4':\n",
      "Training score: 1.0\n",
      "Test score: 0.9982046678635548\n",
      " \n",
      "Best params:\n",
      "{'C': 10.0, 'coef0': 1, 'degree': 4, 'kernel': 'poly'}\n",
      " \n",
      "Fitting 5 folds for each of 10 candidates, totalling 50 fits\n",
      "Scores for 'svc-poly-5':\n",
      "Training score: 1.0\n",
      "Test score: 0.9982046678635548\n",
      " \n",
      "Best params:\n",
      "{'C': 10.0, 'coef0': 1, 'degree': 5, 'kernel': 'poly'}\n",
      " \n"
     ]
    }
   ],
   "source": [
    "for degree in range(1,6):\n",
    "    params = {}\n",
    "    params['C'] = np.power(10, np.linspace(-1, 3, 5))\n",
    "    params['kernel'] = ['poly']\n",
    "    params['coef0'] = [0, 1]\n",
    "    params['degree'] = [degree]\n",
    "    ana_samp.train_model_gscv(SVC, name=f'svc-poly-{degree}', params=params, random_state=42)"
   ]
  },
  {
   "cell_type": "markdown",
   "id": "430437f7",
   "metadata": {},
   "source": [
    "### Decision Tree"
   ]
  },
  {
   "cell_type": "markdown",
   "id": "f258220e",
   "metadata": {},
   "source": [
    "#### Pre-pruned (via GridSearchCV)"
   ]
  },
  {
   "cell_type": "code",
   "execution_count": 6,
   "id": "ed94e399",
   "metadata": {},
   "outputs": [
    {
     "name": "stdout",
     "output_type": "stream",
     "text": [
      "Fitting 5 folds for each of 660 candidates, totalling 3300 fits\n",
      "Scores for 'dt-gscv':\n",
      "Training score: 1.0\n",
      "Test score: 0.9934171154997008\n",
      " \n",
      "Best params:\n",
      "{'criterion': 'gini', 'max_depth': 26, 'min_samples_leaf': 1, 'min_samples_split': 2}\n",
      " \n"
     ]
    }
   ],
   "source": [
    "params = {}\n",
    "params['criterion'] = ['gini', 'entropy', 'log_loss']\n",
    "params ['max_depth'] = list(range(20,31))\n",
    "params['min_samples_split'] = list(range(2,6))\n",
    "params['min_samples_leaf'] = list(range(1,6))\n",
    "ana_samp.train_model_gscv(DecisionTreeClassifier, name='dt-gscv', params=params, random_state=42)"
   ]
  },
  {
   "cell_type": "markdown",
   "id": "69dbc3b8",
   "metadata": {},
   "source": [
    "#### Post-pruned (with cost-complexity)"
   ]
  },
  {
   "cell_type": "code",
   "execution_count": 7,
   "id": "471f559c",
   "metadata": {},
   "outputs": [
    {
     "name": "stdout",
     "output_type": "stream",
     "text": [
      "Scores for 'dt-ccp':\n",
      "Training score: 1.0\n",
      "Test score: 0.9934171154997008\n",
      " \n",
      "ccp_alpha: 0.0\n",
      "max_depth: None\n",
      "min_samples_split: 2\n",
      "min_samples_leaf: 1\n",
      " \n"
     ]
    }
   ],
   "source": [
    "ana_samp.train_tree_ccp(name='dt-ccp', val_size=0.2, random_state=42)"
   ]
  },
  {
   "cell_type": "markdown",
   "id": "ca05e006",
   "metadata": {},
   "source": [
    "### Ensemble models"
   ]
  },
  {
   "cell_type": "markdown",
   "id": "67b007ec",
   "metadata": {},
   "source": [
    "#### Random Forest"
   ]
  },
  {
   "cell_type": "code",
   "execution_count": 9,
   "id": "5227630d",
   "metadata": {},
   "outputs": [
    {
     "name": "stdout",
     "output_type": "stream",
     "text": [
      "Fitting 5 folds for each of 6 candidates, totalling 30 fits\n",
      "Scores for 'rf':\n",
      "Training score: 1.0\n",
      "Test score: 0.9970077797725913\n",
      " \n",
      "Best params:\n",
      "{'max_features': 'sqrt', 'n_estimators': 100}\n",
      " \n"
     ]
    }
   ],
   "source": [
    "params = {}\n",
    "params['n_estimators'] = [30, 100, 300]\n",
    "params['max_features'] = ['sqrt', None]\n",
    "ana_samp.train_model_gscv(RandomForestClassifier, name='rf', params=params, random_state=42)"
   ]
  },
  {
   "cell_type": "markdown",
   "id": "85cda11e",
   "metadata": {},
   "source": [
    "#### Gradient Boosting"
   ]
  },
  {
   "cell_type": "code",
   "execution_count": 10,
   "id": "ee4380ab",
   "metadata": {},
   "outputs": [
    {
     "name": "stdout",
     "output_type": "stream",
     "text": [
      "Fitting 5 folds for each of 36 candidates, totalling 180 fits\n",
      "Scores for 'gradboost':\n",
      "Training score: 1.0\n",
      "Test score: 0.997606223818073\n",
      " \n",
      "Best params:\n",
      "{'learning_rate': 0.3, 'max_features': 'sqrt', 'n_estimators': 300, 'subsample': 1}\n",
      " \n"
     ]
    }
   ],
   "source": [
    "params = {}\n",
    "params['learning_rate'] = [0.03, 0.1, 0.3]\n",
    "params['n_estimators'] = [30, 100, 300]\n",
    "params['subsample'] = [0.5, 1]\n",
    "params['max_features'] = ['sqrt', None]\n",
    "ana_samp.train_model_gscv(GradientBoostingClassifier, name='gradboost', params=params, random_state=42)"
   ]
  },
  {
   "cell_type": "markdown",
   "id": "2ea680ad",
   "metadata": {},
   "source": [
    "### Projection"
   ]
  },
  {
   "cell_type": "code",
   "execution_count": 11,
   "id": "5b43f38a",
   "metadata": {},
   "outputs": [
    {
     "name": "stdout",
     "output_type": "stream",
     "text": [
      "Scores for 'proj':\n",
      "Training score: 0.4842089507558749\n",
      "Test score: 0.4578096947935368\n",
      " \n"
     ]
    }
   ],
   "source": [
    "ana_samp.train_projection('proj')"
   ]
  },
  {
   "cell_type": "markdown",
   "id": "e0f4c9ab",
   "metadata": {},
   "source": [
    "### Save Sampled Analyzer"
   ]
  },
  {
   "cell_type": "code",
   "execution_count": 12,
   "id": "0c66872a",
   "metadata": {},
   "outputs": [
    {
     "name": "stdout",
     "output_type": "stream",
     "text": [
      "Models:\n",
      "svc-poly-1: GridSearchCV(estimator=SVC(random_state=42), n_jobs=-1,\n",
      "             param_grid={'C': array([1.e-01, 1.e+00, 1.e+01, 1.e+02, 1.e+03]),\n",
      "                         'coef0': [0, 1], 'degree': [1], 'kernel': ['poly']},\n",
      "             verbose=3)\n",
      "svc-poly-2: GridSearchCV(estimator=SVC(random_state=42), n_jobs=-1,\n",
      "             param_grid={'C': array([1.e-01, 1.e+00, 1.e+01, 1.e+02, 1.e+03]),\n",
      "                         'coef0': [0, 1], 'degree': [2], 'kernel': ['poly']},\n",
      "             verbose=3)\n",
      "svc-poly-3: GridSearchCV(estimator=SVC(random_state=42), n_jobs=-1,\n",
      "             param_grid={'C': array([1.e-01, 1.e+00, 1.e+01, 1.e+02, 1.e+03]),\n",
      "                         'coef0': [0, 1], 'degree': [3], 'kernel': ['poly']},\n",
      "             verbose=3)\n",
      "svc-poly-4: GridSearchCV(estimator=SVC(random_state=42), n_jobs=-1,\n",
      "             param_grid={'C': array([1.e-01, 1.e+00, 1.e+01, 1.e+02, 1.e+03]),\n",
      "                         'coef0': [0, 1], 'degree': [4], 'kernel': ['poly']},\n",
      "             verbose=3)\n",
      "svc-poly-5: GridSearchCV(estimator=SVC(random_state=42), n_jobs=-1,\n",
      "             param_grid={'C': array([1.e-01, 1.e+00, 1.e+01, 1.e+02, 1.e+03]),\n",
      "                         'coef0': [0, 1], 'degree': [5], 'kernel': ['poly']},\n",
      "             verbose=3)\n",
      "svc-rbf: GridSearchCV(estimator=SVC(random_state=42), n_jobs=-1,\n",
      "             param_grid={'C': array([1.00000000e-01, 2.51188643e-01, 6.30957344e-01, 1.58489319e+00,\n",
      "       3.98107171e+00, 1.00000000e+01, 2.51188643e+01, 6.30957344e+01,\n",
      "       1.58489319e+02, 3.98107171e+02, 1.00000000e+03]),\n",
      "                         'kernel': ['rbf']},\n",
      "             verbose=3)\n",
      "dt-gscv: GridSearchCV(estimator=DecisionTreeClassifier(random_state=42), n_jobs=-1,\n",
      "             param_grid={'criterion': ['gini', 'entropy', 'log_loss'],\n",
      "                         'max_depth': [20, 21, 22, 23, 24, 25, 26, 27, 28, 29,\n",
      "                                       30],\n",
      "                         'min_samples_leaf': [1, 2, 3, 4, 5],\n",
      "                         'min_samples_split': [2, 3, 4, 5]},\n",
      "             verbose=3)\n",
      "dt-ccp: DecisionTreeClassifier(random_state=42)\n",
      "logreg: GridSearchCV(estimator=LogisticRegression(random_state=42), n_jobs=-1,\n",
      "             param_grid={'C': array([1.00000000e-05, 3.16227766e-05, 1.00000000e-04, 3.16227766e-04,\n",
      "       1.00000000e-03, 3.16227766e-03, 1.00000000e-02, 3.16227766e-02,\n",
      "       1.00000000e-01, 3.16227766e-01, 1.00000000e+00, 3.16227766e+00,\n",
      "       1.00000000e+01, 3.16227766e+01, 1.00000000e+02, 3.16227766e+02,\n",
      "       1.00000000e+03, 3.16227766e+03, 1.00000000e+04, 3.16227766e+04,\n",
      "       1.00000000e+05]),\n",
      "                         'l1_ratio': array([0. , 0.2, 0.4, 0.6, 0.8, 1. ]),\n",
      "                         'max_iter': [10000], 'penalty': ['elasticnet'],\n",
      "                         'solver': ['saga']},\n",
      "             verbose=3)\n",
      "rf: GridSearchCV(estimator=RandomForestClassifier(random_state=42), n_jobs=-1,\n",
      "             param_grid={'max_features': ['sqrt', None],\n",
      "                         'n_estimators': [30, 100, 300]},\n",
      "             verbose=3)\n",
      "gradboost: GridSearchCV(estimator=GradientBoostingClassifier(random_state=42), n_jobs=-1,\n",
      "             param_grid={'learning_rate': [0.03, 0.1, 0.3],\n",
      "                         'max_features': ['sqrt', None],\n",
      "                         'n_estimators': [30, 100, 300],\n",
      "                         'subsample': [0.5, 1]},\n",
      "             verbose=3)\n",
      "proj: <music_project.Analyzer.Projection object at 0x000002497769CD40>\n",
      "\n",
      "\n",
      "Clusters:\n",
      "\n",
      "\n",
      "Embeddings:\n",
      "\n"
     ]
    }
   ],
   "source": [
    "print(ana_samp)"
   ]
  },
  {
   "cell_type": "code",
   "execution_count": 13,
   "id": "43dadd22",
   "metadata": {},
   "outputs": [],
   "source": [
    "save_dir = '../models/part_1_hymns/'\n",
    "with open(save_dir + 'analyzer_mode_alltrans_samp.pkl', 'wb') as f:\n",
    "    pickle.dump(ana_samp, f)"
   ]
  }
 ],
 "metadata": {
  "kernelspec": {
   "display_name": "Python [conda env:music]",
   "language": "python",
   "name": "conda-env-music-py"
  },
  "language_info": {
   "codemirror_mode": {
    "name": "ipython",
    "version": 3
   },
   "file_extension": ".py",
   "mimetype": "text/x-python",
   "name": "python",
   "nbconvert_exporter": "python",
   "pygments_lexer": "ipython3",
   "version": "3.12.1"
  }
 },
 "nbformat": 4,
 "nbformat_minor": 5
}
