{
 "cells": [
  {
   "cell_type": "markdown",
   "id": "966c878e",
   "metadata": {},
   "source": [
    "# Unsupervised Training on untransposed, unsampled dataset"
   ]
  },
  {
   "cell_type": "code",
   "execution_count": 1,
   "id": "52a47ff1",
   "metadata": {},
   "outputs": [],
   "source": [
    "import pandas as pd\n",
    "import numpy as np\n",
    "from sklearn.model_selection import train_test_split, GridSearchCV\n",
    "from sklearn.linear_model import LogisticRegression\n",
    "from sklearn.tree import DecisionTreeClassifier\n",
    "from sklearn.svm import SVC\n",
    "from sklearn.ensemble import RandomForestClassifier, GradientBoostingClassifier\n",
    "from sklearn.manifold import TSNE\n",
    "from sklearn.cluster import KMeans, DBSCAN\n",
    "from sklearn.metrics import adjusted_mutual_info_score, adjusted_rand_score\n",
    "from sklearn.mixture import GaussianMixture\n",
    "import pickle\n",
    "import os\n",
    "import matplotlib.pyplot as plt\n",
    "import sys\n",
    "sys.path.append('../modules')\n",
    "from music_project import Analyzer"
   ]
  },
  {
   "cell_type": "markdown",
   "id": "4d89ccc7",
   "metadata": {},
   "source": [
    "## Clustering and Manifold Learning"
   ]
  },
  {
   "cell_type": "markdown",
   "id": "e0e1d46f",
   "metadata": {},
   "source": [
    "### Load Data"
   ]
  },
  {
   "cell_type": "code",
   "execution_count": 6,
   "id": "7f754933",
   "metadata": {},
   "outputs": [
    {
     "data": {
      "text/html": [
       "<div>\n",
       "<style scoped>\n",
       "    .dataframe tbody tr th:only-of-type {\n",
       "        vertical-align: middle;\n",
       "    }\n",
       "\n",
       "    .dataframe tbody tr th {\n",
       "        vertical-align: top;\n",
       "    }\n",
       "\n",
       "    .dataframe thead th {\n",
       "        text-align: right;\n",
       "    }\n",
       "</style>\n",
       "<table border=\"1\" class=\"dataframe\">\n",
       "  <thead>\n",
       "    <tr style=\"text-align: right;\">\n",
       "      <th></th>\n",
       "      <th>sig-mode</th>\n",
       "      <th>mode</th>\n",
       "      <th>sig</th>\n",
       "      <th>name</th>\n",
       "      <th>0</th>\n",
       "      <th>1</th>\n",
       "      <th>2</th>\n",
       "      <th>3</th>\n",
       "      <th>4</th>\n",
       "      <th>5</th>\n",
       "      <th>6</th>\n",
       "      <th>7</th>\n",
       "      <th>8</th>\n",
       "      <th>9</th>\n",
       "      <th>10</th>\n",
       "      <th>11</th>\n",
       "    </tr>\n",
       "  </thead>\n",
       "  <tbody>\n",
       "    <tr>\n",
       "      <th>0</th>\n",
       "      <td>17</td>\n",
       "      <td>1</td>\n",
       "      <td>8</td>\n",
       "      <td>MajesticSweetnessSitsEnthroned_(nc)simms-jr.mid</td>\n",
       "      <td>0.156354</td>\n",
       "      <td>0.077541</td>\n",
       "      <td>0.000000</td>\n",
       "      <td>0.245839</td>\n",
       "      <td>0.000000</td>\n",
       "      <td>0.023497</td>\n",
       "      <td>0.000000</td>\n",
       "      <td>0.038770</td>\n",
       "      <td>0.401606</td>\n",
       "      <td>0.000000</td>\n",
       "      <td>0.056393</td>\n",
       "      <td>0.000000</td>\n",
       "    </tr>\n",
       "    <tr>\n",
       "      <th>1</th>\n",
       "      <td>17</td>\n",
       "      <td>1</td>\n",
       "      <td>8</td>\n",
       "      <td>MakeMeAChannelOfBlessing_(nc)simms-jr.mid</td>\n",
       "      <td>0.112117</td>\n",
       "      <td>0.152700</td>\n",
       "      <td>0.011005</td>\n",
       "      <td>0.183308</td>\n",
       "      <td>0.000000</td>\n",
       "      <td>0.055715</td>\n",
       "      <td>0.000000</td>\n",
       "      <td>0.061905</td>\n",
       "      <td>0.293248</td>\n",
       "      <td>0.000000</td>\n",
       "      <td>0.130001</td>\n",
       "      <td>0.000000</td>\n",
       "    </tr>\n",
       "    <tr>\n",
       "      <th>2</th>\n",
       "      <td>21</td>\n",
       "      <td>1</td>\n",
       "      <td>10</td>\n",
       "      <td>ManOfSorrows_(nc)simms-jr.mid</td>\n",
       "      <td>0.050256</td>\n",
       "      <td>0.000000</td>\n",
       "      <td>0.192911</td>\n",
       "      <td>0.068771</td>\n",
       "      <td>0.007935</td>\n",
       "      <td>0.184976</td>\n",
       "      <td>0.013225</td>\n",
       "      <td>0.100511</td>\n",
       "      <td>0.000000</td>\n",
       "      <td>0.053782</td>\n",
       "      <td>0.327632</td>\n",
       "      <td>0.000000</td>\n",
       "    </tr>\n",
       "    <tr>\n",
       "      <th>3</th>\n",
       "      <td>7</td>\n",
       "      <td>1</td>\n",
       "      <td>3</td>\n",
       "      <td>MayTheMindOfChristMySavior_(nc)simms-jr.mid</td>\n",
       "      <td>0.072600</td>\n",
       "      <td>0.000000</td>\n",
       "      <td>0.052693</td>\n",
       "      <td>0.247073</td>\n",
       "      <td>0.000000</td>\n",
       "      <td>0.118267</td>\n",
       "      <td>0.000000</td>\n",
       "      <td>0.141816</td>\n",
       "      <td>0.124122</td>\n",
       "      <td>0.000000</td>\n",
       "      <td>0.243430</td>\n",
       "      <td>0.000000</td>\n",
       "    </tr>\n",
       "    <tr>\n",
       "      <th>4</th>\n",
       "      <td>11</td>\n",
       "      <td>1</td>\n",
       "      <td>5</td>\n",
       "      <td>MomentByMoment_(nc)simms-jr.mid</td>\n",
       "      <td>0.220338</td>\n",
       "      <td>0.007861</td>\n",
       "      <td>0.074174</td>\n",
       "      <td>0.015723</td>\n",
       "      <td>0.054011</td>\n",
       "      <td>0.302664</td>\n",
       "      <td>0.007206</td>\n",
       "      <td>0.116756</td>\n",
       "      <td>0.006551</td>\n",
       "      <td>0.104819</td>\n",
       "      <td>0.074829</td>\n",
       "      <td>0.015068</td>\n",
       "    </tr>\n",
       "    <tr>\n",
       "      <th>...</th>\n",
       "      <td>...</td>\n",
       "      <td>...</td>\n",
       "      <td>...</td>\n",
       "      <td>...</td>\n",
       "      <td>...</td>\n",
       "      <td>...</td>\n",
       "      <td>...</td>\n",
       "      <td>...</td>\n",
       "      <td>...</td>\n",
       "      <td>...</td>\n",
       "      <td>...</td>\n",
       "      <td>...</td>\n",
       "      <td>...</td>\n",
       "      <td>...</td>\n",
       "      <td>...</td>\n",
       "      <td>...</td>\n",
       "    </tr>\n",
       "    <tr>\n",
       "      <th>357</th>\n",
       "      <td>0</td>\n",
       "      <td>0</td>\n",
       "      <td>0</td>\n",
       "      <td>Havah_Nagilah_(nc)pope.mid</td>\n",
       "      <td>0.062154</td>\n",
       "      <td>0.000000</td>\n",
       "      <td>0.118769</td>\n",
       "      <td>0.001231</td>\n",
       "      <td>0.326462</td>\n",
       "      <td>0.100308</td>\n",
       "      <td>0.004923</td>\n",
       "      <td>0.008615</td>\n",
       "      <td>0.052615</td>\n",
       "      <td>0.211692</td>\n",
       "      <td>0.014769</td>\n",
       "      <td>0.098462</td>\n",
       "    </tr>\n",
       "    <tr>\n",
       "      <th>358</th>\n",
       "      <td>21</td>\n",
       "      <td>1</td>\n",
       "      <td>10</td>\n",
       "      <td>America_the_Beautiful_(nc)pope.mid</td>\n",
       "      <td>0.161224</td>\n",
       "      <td>0.000000</td>\n",
       "      <td>0.116327</td>\n",
       "      <td>0.075510</td>\n",
       "      <td>0.012245</td>\n",
       "      <td>0.220408</td>\n",
       "      <td>0.000000</td>\n",
       "      <td>0.073469</td>\n",
       "      <td>0.008163</td>\n",
       "      <td>0.095918</td>\n",
       "      <td>0.228571</td>\n",
       "      <td>0.008163</td>\n",
       "    </tr>\n",
       "    <tr>\n",
       "      <th>359</th>\n",
       "      <td>21</td>\n",
       "      <td>1</td>\n",
       "      <td>10</td>\n",
       "      <td>Battle_Hymn_of_the_Republic_(nc)pope.mid</td>\n",
       "      <td>0.035992</td>\n",
       "      <td>0.000000</td>\n",
       "      <td>0.185798</td>\n",
       "      <td>0.090467</td>\n",
       "      <td>0.000000</td>\n",
       "      <td>0.214981</td>\n",
       "      <td>0.000000</td>\n",
       "      <td>0.042802</td>\n",
       "      <td>0.000000</td>\n",
       "      <td>0.016537</td>\n",
       "      <td>0.413424</td>\n",
       "      <td>0.000000</td>\n",
       "    </tr>\n",
       "    <tr>\n",
       "      <th>360</th>\n",
       "      <td>11</td>\n",
       "      <td>1</td>\n",
       "      <td>5</td>\n",
       "      <td>My_Country_Tis_of_Thee_(nc)pope.mid</td>\n",
       "      <td>0.299383</td>\n",
       "      <td>0.000000</td>\n",
       "      <td>0.049383</td>\n",
       "      <td>0.000000</td>\n",
       "      <td>0.043210</td>\n",
       "      <td>0.250000</td>\n",
       "      <td>0.000000</td>\n",
       "      <td>0.101852</td>\n",
       "      <td>0.000000</td>\n",
       "      <td>0.160494</td>\n",
       "      <td>0.095679</td>\n",
       "      <td>0.000000</td>\n",
       "    </tr>\n",
       "    <tr>\n",
       "      <th>361</th>\n",
       "      <td>17</td>\n",
       "      <td>1</td>\n",
       "      <td>8</td>\n",
       "      <td>Star_Spangled_Banner_(nc)pope.mid</td>\n",
       "      <td>0.158854</td>\n",
       "      <td>0.062500</td>\n",
       "      <td>0.010417</td>\n",
       "      <td>0.244792</td>\n",
       "      <td>0.005208</td>\n",
       "      <td>0.042969</td>\n",
       "      <td>0.000000</td>\n",
       "      <td>0.071615</td>\n",
       "      <td>0.272135</td>\n",
       "      <td>0.002604</td>\n",
       "      <td>0.128906</td>\n",
       "      <td>0.000000</td>\n",
       "    </tr>\n",
       "  </tbody>\n",
       "</table>\n",
       "<p>362 rows × 16 columns</p>\n",
       "</div>"
      ],
      "text/plain": [
       "     sig-mode  mode  sig                                             name  \\\n",
       "0          17     1    8  MajesticSweetnessSitsEnthroned_(nc)simms-jr.mid   \n",
       "1          17     1    8        MakeMeAChannelOfBlessing_(nc)simms-jr.mid   \n",
       "2          21     1   10                    ManOfSorrows_(nc)simms-jr.mid   \n",
       "3           7     1    3      MayTheMindOfChristMySavior_(nc)simms-jr.mid   \n",
       "4          11     1    5                  MomentByMoment_(nc)simms-jr.mid   \n",
       "..        ...   ...  ...                                              ...   \n",
       "357         0     0    0                       Havah_Nagilah_(nc)pope.mid   \n",
       "358        21     1   10               America_the_Beautiful_(nc)pope.mid   \n",
       "359        21     1   10         Battle_Hymn_of_the_Republic_(nc)pope.mid   \n",
       "360        11     1    5              My_Country_Tis_of_Thee_(nc)pope.mid   \n",
       "361        17     1    8                Star_Spangled_Banner_(nc)pope.mid   \n",
       "\n",
       "            0         1         2         3         4         5         6  \\\n",
       "0    0.156354  0.077541  0.000000  0.245839  0.000000  0.023497  0.000000   \n",
       "1    0.112117  0.152700  0.011005  0.183308  0.000000  0.055715  0.000000   \n",
       "2    0.050256  0.000000  0.192911  0.068771  0.007935  0.184976  0.013225   \n",
       "3    0.072600  0.000000  0.052693  0.247073  0.000000  0.118267  0.000000   \n",
       "4    0.220338  0.007861  0.074174  0.015723  0.054011  0.302664  0.007206   \n",
       "..        ...       ...       ...       ...       ...       ...       ...   \n",
       "357  0.062154  0.000000  0.118769  0.001231  0.326462  0.100308  0.004923   \n",
       "358  0.161224  0.000000  0.116327  0.075510  0.012245  0.220408  0.000000   \n",
       "359  0.035992  0.000000  0.185798  0.090467  0.000000  0.214981  0.000000   \n",
       "360  0.299383  0.000000  0.049383  0.000000  0.043210  0.250000  0.000000   \n",
       "361  0.158854  0.062500  0.010417  0.244792  0.005208  0.042969  0.000000   \n",
       "\n",
       "            7         8         9        10        11  \n",
       "0    0.038770  0.401606  0.000000  0.056393  0.000000  \n",
       "1    0.061905  0.293248  0.000000  0.130001  0.000000  \n",
       "2    0.100511  0.000000  0.053782  0.327632  0.000000  \n",
       "3    0.141816  0.124122  0.000000  0.243430  0.000000  \n",
       "4    0.116756  0.006551  0.104819  0.074829  0.015068  \n",
       "..        ...       ...       ...       ...       ...  \n",
       "357  0.008615  0.052615  0.211692  0.014769  0.098462  \n",
       "358  0.073469  0.008163  0.095918  0.228571  0.008163  \n",
       "359  0.042802  0.000000  0.016537  0.413424  0.000000  \n",
       "360  0.101852  0.000000  0.160494  0.095679  0.000000  \n",
       "361  0.071615  0.272135  0.002604  0.128906  0.000000  \n",
       "\n",
       "[362 rows x 16 columns]"
      ]
     },
     "execution_count": 6,
     "metadata": {},
     "output_type": "execute_result"
    }
   ],
   "source": [
    "csv_dir = '../csv/hymns_single-tone_notranspositions_nosampling.csv'\n",
    "df_nosamp = pd.read_csv(csv_dir, index_col=0)\n",
    "X = df_nosamp[[str(n) for n in range(11)]]\n",
    "y = df_nosamp['sig-mode']\n",
    "ana_nosamp = Analyzer(X, y)\n",
    "ana_nosamp.train_test_split(test_size=0.2, random_state=42)\n",
    "df_nosamp"
   ]
  },
  {
   "cell_type": "markdown",
   "id": "948595a8",
   "metadata": {},
   "source": [
    "### K-means Clustering"
   ]
  },
  {
   "cell_type": "code",
   "execution_count": 7,
   "id": "46a63e00",
   "metadata": {},
   "outputs": [
    {
     "name": "stderr",
     "output_type": "stream",
     "text": [
      "C:\\Users\\radun\\anaconda3\\envs\\music\\Lib\\site-packages\\sklearn\\cluster\\_kmeans.py:1436: UserWarning: KMeans is known to have a memory leak on Windows with MKL, when there are less chunks than available threads. You can avoid it by setting the environment variable OMP_NUM_THREADS=2.\n",
      "  warnings.warn(\n",
      "C:\\Users\\radun\\anaconda3\\envs\\music\\Lib\\site-packages\\sklearn\\cluster\\_kmeans.py:1436: UserWarning: KMeans is known to have a memory leak on Windows with MKL, when there are less chunks than available threads. You can avoid it by setting the environment variable OMP_NUM_THREADS=2.\n",
      "  warnings.warn(\n"
     ]
    },
    {
     "name": "stdout",
     "output_type": "stream",
     "text": [
      "Best clustering: KMeans(n_clusters=13, n_init=1, random_state=42)\n",
      "Info score for cluster: 0.878512003937509\n"
     ]
    }
   ],
   "source": [
    "ana_nosamp.fit_kmeans(name='kmeans', random_state=42)"
   ]
  },
  {
   "cell_type": "markdown",
   "id": "6701bd4b",
   "metadata": {},
   "source": [
    "### Gaussian Mixture Model"
   ]
  },
  {
   "cell_type": "code",
   "execution_count": 8,
   "id": "64903cb9",
   "metadata": {},
   "outputs": [
    {
     "name": "stderr",
     "output_type": "stream",
     "text": [
      "C:\\Users\\radun\\anaconda3\\envs\\music\\Lib\\site-packages\\sklearn\\cluster\\_kmeans.py:1436: UserWarning: KMeans is known to have a memory leak on Windows with MKL, when there are less chunks than available threads. You can avoid it by setting the environment variable OMP_NUM_THREADS=2.\n",
      "  warnings.warn(\n"
     ]
    },
    {
     "name": "stdout",
     "output_type": "stream",
     "text": [
      "Best clustering: GaussianMixture(n_components=13, random_state=42)\n",
      "Info score for cluster: 0.8798431273139702\n"
     ]
    }
   ],
   "source": [
    "ana_nosamp.fit_gmm(name='gmm', random_state=42)"
   ]
  },
  {
   "cell_type": "markdown",
   "id": "7f43280f",
   "metadata": {},
   "source": [
    "### DBSCAN"
   ]
  },
  {
   "cell_type": "code",
   "execution_count": 9,
   "id": "302a9705",
   "metadata": {},
   "outputs": [
    {
     "name": "stdout",
     "output_type": "stream",
     "text": [
      "Best clustering: DBSCAN(eps=0.12, min_samples=1, n_jobs=-1)\n",
      "Info score for cluster: 0.9772917396744387\n",
      "Best eps: 0.12\n",
      "Best min_samples: 1\n"
     ]
    }
   ],
   "source": [
    "eps_vals = np.linspace(0.01,0.2,20)\n",
    "min_samples_vals = list(range(1,20))\n",
    "ana_nosamp.fit_dbscan(name='dbscan', eps_vals=eps_vals, min_samples_vals=min_samples_vals, random_state=42)"
   ]
  },
  {
   "cell_type": "markdown",
   "id": "fb232adf",
   "metadata": {},
   "source": [
    "### t-SNE"
   ]
  },
  {
   "cell_type": "code",
   "execution_count": 10,
   "id": "b86b267e",
   "metadata": {},
   "outputs": [
    {
     "data": {
      "image/png": "[encoded data removed]",
      "text/plain": [
       "<Figure size 640x480 with 1 Axes>"
      ]
     },
     "metadata": {},
     "output_type": "display_data"
    }
   ],
   "source": [
    "ana_nosamp.fit_tsne(name='tsne', random_state=42)\n",
    "fig, ax = ana_nosamp.plot_embedding('tsne')\n",
    "plt.show()"
   ]
  },
  {
   "cell_type": "markdown",
   "id": "44cdfd06",
   "metadata": {},
   "source": [
    "### Save Unsampled Analyzer"
   ]
  },
  {
   "cell_type": "code",
   "execution_count": 7,
   "id": "7cbf7a3b",
   "metadata": {},
   "outputs": [
    {
     "name": "stdout",
     "output_type": "stream",
     "text": [
      "Models:\n",
      "\n",
      "\n",
      "Clusters:\n",
      "kmeans: KMeans(init='random', n_clusters=2, n_init=100, random_state=42)\n",
      "gmm: GaussianMixture(n_components=2, random_state=42)\n",
      "dbscan: DBSCAN(eps=0.09999999999999999, min_samples=14, n_jobs=-1)\n",
      "\n",
      "\n",
      "Embeddings:\n",
      "tsne: TSNE(random_state=42)\n",
      "\n"
     ]
    }
   ],
   "source": [
    "print(ana_nosamp)"
   ]
  },
  {
   "cell_type": "code",
   "execution_count": 11,
   "id": "c51e8bbc",
   "metadata": {},
   "outputs": [],
   "source": [
    "save_dir = '../models/part_1_hymns/'\n",
    "with open(save_dir + 'analyzer_sig-mode_notrans_nosamp.pkl', 'wb') as f:\n",
    "    pickle.dump(ana_nosamp, f)"
   ]
  },
  {
   "cell_type": "code",
   "execution_count": null,
   "id": "dd44f724",
   "metadata": {},
   "outputs": [],
   "source": []
  }
 ],
 "metadata": {
  "kernelspec": {
   "display_name": "Python [conda env:music]",
   "language": "python",
   "name": "conda-env-music-py"
  },
  "language_info": {
   "codemirror_mode": {
    "name": "ipython",
    "version": 3
   },
   "file_extension": ".py",
   "mimetype": "text/x-python",
   "name": "python",
   "nbconvert_exporter": "python",
   "pygments_lexer": "ipython3",
   "version": "3.12.1"
  }
 },
 "nbformat": 4,
 "nbformat_minor": 5
}
